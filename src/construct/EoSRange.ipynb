{
 "cells": [
  {
   "cell_type": "code",
   "execution_count": 3,
   "metadata": {},
   "outputs": [
    {
     "name": "stdout",
     "output_type": "stream",
     "text": [
      "e min: 3333.333333333333\n",
      "e max: 3.377e+12\n",
      "Temp min: 0.24202898550724639\n",
      "Temp max: 2.452e+08\n"
     ]
    }
   ],
   "source": [
    "import numpy as np\n",
    "import matplotlib.pyplot as plt\n",
    "\n",
    "\n",
    "#expoential like function that used to sample domain\n",
    "\n",
    "def logSample(varMin, varMax, nPoints):\n",
    "    logMax = np.log10(varMax)\n",
    "    logMin = np.log10(varMin)\n",
    "\n",
    "    xRange = np.linspace(logMin, logMax, nPoints)\n",
    "\n",
    "    return 10**(xRange)\n",
    "\n",
    "assume_gamma = 1.6\n",
    "rhoMin = 5e-9\n",
    "rhoMax = 5e-4\n",
    "pMin = 1\n",
    "pMax = 0.1*101325\n",
    "eMin = pMin / ( (assume_gamma-1) * rhoMax )\n",
    "eMax = pMax / ( (assume_gamma-1) * rhoMin )\n",
    "\n",
    "nPoints = 1500\n",
    "pRange = logSample(pMin, pMax, nPoints)\n",
    "rhoRange = logSample(rhoMin, rhoMax, nPoints)\n",
    "eRange = logSample(eMin, eMax, nPoints)\n",
    "\n",
    "protonMass = 1.67e-27\n",
    "kB = 1.38e-23\n",
    "tempMax = (protonMass * pMax)/(rhoMin * kB)\n",
    "tempMin = (protonMass * pMin)/(rhoMax * kB)\n",
    "\n",
    "print(f\"e min: {eMin}\")\n",
    "print(\"e max: {val:.3e}\".format(val = eMax))\n",
    "\n",
    "print(f\"Temp min: {tempMin}\")\n",
    "print(\"Temp max: {temp:.3e}\".format(temp = tempMax))\n",
    "\n",
    "\n",
    "\n",
    "save = True\n",
    "EoSFolder = \"../../EoSData/HFusion5_1/\"\n",
    "\n",
    "if save:\n",
    "    np.savetxt(EoSFolder+\"pRange.csv\", pRange)\n",
    "    np.savetxt(EoSFolder+\"rhoRange.csv\", rhoRange)\n",
    "    np.savetxt(EoSFolder+\"eRange.csv\", eRange)\n",
    "\n"
   ]
  }
 ],
 "metadata": {
  "kernelspec": {
   "display_name": "Learning",
   "language": "python",
   "name": "python3"
  },
  "language_info": {
   "codemirror_mode": {
    "name": "ipython",
    "version": 3
   },
   "file_extension": ".py",
   "mimetype": "text/x-python",
   "name": "python",
   "nbconvert_exporter": "python",
   "pygments_lexer": "ipython3",
   "version": "3.10.6"
  }
 },
 "nbformat": 4,
 "nbformat_minor": 2
}
