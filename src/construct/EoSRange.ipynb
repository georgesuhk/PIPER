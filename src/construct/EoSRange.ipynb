{
 "cells": [
  {
   "cell_type": "code",
   "execution_count": 1,
   "metadata": {},
   "outputs": [
    {
     "name": "stdout",
     "output_type": "stream",
     "text": [
      "Temp min: 121.01449275362319\n",
      "Temp max: 6.131e+10\n"
     ]
    }
   ],
   "source": [
    "import numpy as np\n",
    "import matplotlib.pyplot as plt\n",
    "\n",
    "\n",
    "#expoential like function that used to sample domain\n",
    "\n",
    "def logSample(varMin, varMax, nPoints):\n",
    "    logMax = np.log10(varMax)\n",
    "    logMin = np.log10(varMin)\n",
    "\n",
    "    xRange = np.linspace(logMin, logMax, nPoints)\n",
    "\n",
    "    return 10**(xRange)\n",
    "\n",
    "rhoMin = 5e-9\n",
    "rhoMax = 5e-7\n",
    "pMin = 1\n",
    "pMax = 1e-2*101325\n",
    "\n",
    "nPoints = 1000\n",
    "pRange = logSample(pMin, pMax, nPoints)\n",
    "rhoRange = logSample(rhoMin, rhoMax, nPoints)\n",
    "\n",
    "protonMass = 1.67e-27\n",
    "kB = 1.38e-23\n",
    "tempMax = (protonMass * pMax)/(rhoMin * kB)\n",
    "tempMin = (protonMass * pMin)/(rhoMax * kB)\n",
    "\n",
    "print(f\"Temp min: {tempMin}\")\n",
    "print(\"Temp max: {temp:.3e}\".format(temp = tempMax))\n",
    "\n",
    "save = True\n",
    "EoSFolder = \"../../EoSData/HFusion4_S2/\"\n",
    "\n",
    "if save:\n",
    "    np.savetxt(EoSFolder+\"pRange.csv\", pRange)\n",
    "    np.savetxt(EoSFolder+\"rhoRange.csv\", rhoRange)\n"
   ]
  }
 ],
 "metadata": {
  "kernelspec": {
   "display_name": "Learning",
   "language": "python",
   "name": "python3"
  },
  "language_info": {
   "codemirror_mode": {
    "name": "ipython",
    "version": 3
   },
   "file_extension": ".py",
   "mimetype": "text/x-python",
   "name": "python",
   "nbconvert_exporter": "python",
   "pygments_lexer": "ipython3",
   "version": "3.10.6"
  }
 },
 "nbformat": 4,
 "nbformat_minor": 2
}
